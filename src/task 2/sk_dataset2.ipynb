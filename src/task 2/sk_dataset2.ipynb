{
 "cells": [
  {
   "cell_type": "code",
   "execution_count": 1,
   "metadata": {
    "collapsed": true
   },
   "outputs": [],
   "source": [
    "import xlrd\n",
    "import matplotlib.pyplot as plt\n",
    "import numpy as np\n",
    "import csv\n",
    "from sklearn import datasets, linear_model\n",
    "from sklearn.metrics import mean_squared_error, r2_score\n",
    "from sklearn.model_selection import train_test_split\n",
    "from sklearn.neighbors import KNeighborsClassifier\n",
    "from datetime import datetime\n",
    "from math import sqrt\n",
    "from sklearn.model_selection import cross_validate\n",
    "from sklearn.metrics.scorer import make_scorer\n",
    "from sklearn.metrics import f1_score\n",
    "from sklearn.metrics import accuracy_score\n",
    "from sklearn.ensemble import RandomForestClassifier\n",
    "from sklearn import preprocessing\n"
   ]
  },
  {
   "cell_type": "code",
   "execution_count": 2,
   "metadata": {
    "collapsed": true
   },
   "outputs": [],
   "source": [
    "#Turing problem into binary classification problem\n",
    "CLASSES = {\n",
    "    'Very Large Number': 1,\n",
    "    'Large Number': 1,\n",
    "    'Medium Number': 0,\n",
    "    'Small Number': 0,\n",
    "    'Very Small Number': 0}\n",
    "NUM_FEATURES = 13\n",
    "NUM_DATAPOINTS = 100000"
   ]
  },
  {
   "cell_type": "code",
   "execution_count": 3,
   "metadata": {
    "collapsed": true
   },
   "outputs": [],
   "source": [
    "X = np.zeros((NUM_DATAPOINTS, NUM_FEATURES))\n",
    "y = np.zeros((NUM_DATAPOINTS, 1))\n",
    "y_classifier = np.zeros((NUM_DATAPOINTS, 1))\n",
    "#Reading data in from csv file\n",
    "with open('sum_data.csv') as csvfile:\n",
    "    reader = csv.reader(csvfile)\n",
    "    for i, row in enumerate(reader):         \n",
    "        if(i != 0):\n",
    "            row = row[0].split(';')\n",
    "            X[i-1][0] = row[1]\n",
    "            X[i-1][1] = row[2]\n",
    "            X[i-1][2] = row[3]\n",
    "            X[i-1][3] = row[4]\n",
    "            X[i-1][4] = row[5]\n",
    "            X[i-1][5] = row[6]\n",
    "            X[i-1][6] = row[7]\n",
    "            X[i-1][7] = row[8]\n",
    "            X[i-1][8] = row[9]\n",
    "            X[i-1][9] = row[10]\n",
    "            y[i-1][0] = row[11]\n",
    "            y_classifier[i-1][0] = CLASSES[row[12]]\n",
    "            \n",
    "        if(i == NUM_DATAPOINTS):\n",
    "            break\n",
    "#Normalising data            \n",
    "X = preprocessing.scale(X)\n",
    "y = preprocessing.scale(y)"
   ]
  },
  {
   "cell_type": "code",
   "execution_count": 4,
   "metadata": {
    "collapsed": true
   },
   "outputs": [],
   "source": [
    "class linear_regression:\n",
    "    \"\"\"A class that takes in a numpy matrix X and column vector y \n",
    "        Allows you to apply 7030 split and 10 fold cross fold validation\n",
    "        with metrics returned as a tuple as so:\n",
    "        (RMSE, MAE)\n",
    "    \"\"\"\n",
    "    def __init__(self, X,y):\n",
    "        self.X = X\n",
    "        self.y = y\n",
    "\n",
    "    def split7030(self):\n",
    "        \"\"\"Applies 70 30 split\"\"\"\n",
    "        X_train, X_test, y_train, y_test = train_test_split(self.X, self.y, test_size=0.3)\n",
    "        regr = linear_model.LinearRegression(fit_intercept = False)\n",
    "        #regr.fit(Pickup_Time_Train, Trip_Duration_Train)\n",
    "        regr.fit(X_train, y_train)\n",
    "\n",
    "        #Trip_Duration_Predict = regr.predict(Pickup_Time_Test)\n",
    "        y_predict = regr.predict(X_test)\n",
    "        metric1 = sqrt(mean_squared_error(y_test, y_predict))\n",
    "\n",
    "        sum = 0\n",
    "        for i, y in enumerate(y_test):\n",
    "            sum =  sum + abs(y-y_predict[i])\n",
    "\n",
    "        mean = sum/y_test.shape[0]\n",
    "        metric2 = mean\n",
    "        return metric1, metric2[0]\n",
    "    \n",
    "    def crossval10(self):\n",
    "        \"\"\"Applies 10 fold cross validation\"\"\"\n",
    "        regr = linear_model.LinearRegression(fit_intercept = False)\n",
    "\n",
    "        cv = cross_validate(regr, self.X, self.y, scoring=make_scorer(self.score_func_RMSE), cv=10)\n",
    "        regr = linear_model.LinearRegression(fit_intercept = False)\n",
    "        cv2 = cross_validate(regr, self.X, self.y, scoring=make_scorer(self.score_func_AE), cv=10)\n",
    "        return np.mean(cv['test_score']), np.mean(cv2['test_score'])\n",
    "    \n",
    "    def score_func_RMSE(self,y, y_pred):\n",
    "        \"\"\"RMSE scorer function for cross validation\"\"\"\n",
    "        RMSEsum = 0\n",
    "        for i, yi in enumerate(y):\n",
    "            RMSEsum = RMSEsum + (yi-y_pred[i])**2\n",
    "        RMSE = sqrt(RMSEsum/y.shape[0])\n",
    "\n",
    "        return RMSE\n",
    "    \n",
    "    def score_func_AE(self,y, y_pred):\n",
    "        \"\"\"MAE scorer function for cross validation\"\"\"\n",
    "        AEsum = 0\n",
    "        for i, yi in enumerate(y):\n",
    "            AEsum = AEsum + abs(yi-y_pred[i])\n",
    "        AE = AEsum/y.shape[0]\n",
    "        \n",
    "        return AE"
   ]
  },
  {
   "cell_type": "code",
   "execution_count": 5,
   "metadata": {
    "collapsed": true
   },
   "outputs": [],
   "source": [
    "lr = linear_regression(X, y)"
   ]
  },
  {
   "cell_type": "code",
   "execution_count": 6,
   "metadata": {},
   "outputs": [
    {
     "name": "stdout",
     "output_type": "stream",
     "text": [
      "10 fold cross validation\n",
      "Root mean square error:  0.11997623993\n",
      "Mean absolute error:  0.0898248169899\n"
     ]
    }
   ],
   "source": [
    "result = lr.crossval10()\n",
    "print('10 fold cross validation')\n",
    "print(\"Root mean square error: \", result[0])\n",
    "print(\"Mean absolute error: \", result[1])"
   ]
  },
  {
   "cell_type": "code",
   "execution_count": 7,
   "metadata": {},
   "outputs": [
    {
     "name": "stdout",
     "output_type": "stream",
     "text": [
      "70 30 split\n",
      "Root mean square error:  0.12038215366530755\n",
      "Mean absolute error:  0.0902028925195\n"
     ]
    }
   ],
   "source": [
    "result = lr.split7030()\n",
    "print('70 30 split')\n",
    "print(\"Root mean square error: \", result[0])\n",
    "print(\"Mean absolute error: \", result[1])"
   ]
  },
  {
   "cell_type": "code",
   "execution_count": 8,
   "metadata": {
    "collapsed": true
   },
   "outputs": [],
   "source": [
    "class KNN:\n",
    "    \n",
    "    \"\"\"A class that takes in a numpy matrix X and column vector y \n",
    "        and implements the k nearest neighbour algorithm with k equal to 7\n",
    "        Allows you to apply 7030 split and 10 fold cross fold validation\n",
    "        with metrics returned as a tuple as so:\n",
    "        (f1 score, accuracy)\"\"\"\n",
    "    def __init__(self, X, y_classifier):\n",
    "        self.X = X\n",
    "        self.y = y_classifier\n",
    "        self.num_neigh = 7\n",
    "\n",
    "    def split7030(self):\n",
    "        \"\"\"Applies 70 30 split testing\"\"\"\n",
    "        X_train, X_test, y_train, y_test = train_test_split(self.X, self.y, test_size=0.3)\n",
    "        neigh = KNeighborsClassifier(n_neighbors=5)\n",
    "        neigh.fit(X_train, y_train)\n",
    "        y_predict = neigh.predict(X_test)\n",
    "        metric1 = f1_score(y_test, y_predict)\n",
    "        metric2 = accuracy_score(y_test, y_predict)\n",
    "\n",
    "        return metric1, metric2\n",
    "\n",
    "    def crossval10(self):\n",
    "        \"\"\"Applies 10 fold cross validation testing\"\"\"\n",
    "        neigh = KNeighborsClassifier(n_neighbors = self.num_neigh)\n",
    "        cv = cross_validate(neigh, self.X, self.y, scoring = make_scorer(f1_score), cv=10)\n",
    "        neigh = KNeighborsClassifier(n_neighbors=self.num_neigh)\n",
    "        cv2 = cross_validate(neigh, self.X, self.y, scoring = make_scorer(accuracy_score), cv=10)\n",
    "\n",
    "\n",
    "        return np.mean(cv['test_score']), np.mean(cv2['test_score'])\n"
   ]
  },
  {
   "cell_type": "code",
   "execution_count": 9,
   "metadata": {
    "collapsed": true
   },
   "outputs": [],
   "source": [
    "knn = KNN(X, y_classifier.ravel())\n",
    "\n"
   ]
  },
  {
   "cell_type": "code",
   "execution_count": 10,
   "metadata": {},
   "outputs": [
    {
     "name": "stdout",
     "output_type": "stream",
     "text": [
      "70 30 split\n",
      "f1 score:  0.998413700172 Accuracy score:  0.9969\n"
     ]
    }
   ],
   "source": [
    "result = knn.split7030()\n",
    "print(\"70 30 split\")\n",
    "print(\"f1 score: \", result[0], \"Accuracy score: \", result[1])"
   ]
  },
  {
   "cell_type": "code",
   "execution_count": 11,
   "metadata": {
    "scrolled": true
   },
   "outputs": [
    {
     "name": "stdout",
     "output_type": "stream",
     "text": [
      "10 fold cross validation\n",
      "f1 score:  0.998462511717 Accuracy score:  0.996989979981\n"
     ]
    }
   ],
   "source": [
    "result = knn.crossval10()\n",
    "print(\"10 fold cross validation\")\n",
    "print(\"f1 score: \", result[0], \"Accuracy score: \", result[1])"
   ]
  },
  {
   "cell_type": "code",
   "execution_count": 12,
   "metadata": {
    "collapsed": true
   },
   "outputs": [],
   "source": [
    "class RandomForest:\n",
    "    \"\"\"A class that takes in a numpy matrix X and column vector y \n",
    "        and implements the random forest algorithm with a max depth of 2\n",
    "        Allows you to apply 7030 split and 10 fold cross fold validation\n",
    "        with metrics returned as a tuple as so:\n",
    "        (f1 score, accuracy)\"\"\"\n",
    "    def __init__(self, X, y_classifier):\n",
    "        self.X = X\n",
    "        self.y = y_classifier\n",
    "        \n",
    "    def split7030(self):\n",
    "        \"\"\"Applies 70 30 split testing\"\"\"\n",
    "        X_train, X_test, y_train, y_test = train_test_split(self.X, self.y, test_size=0.3)\n",
    "        rf = RandomForestClassifier(max_depth=2, random_state=0)\n",
    "        rf.fit(X_train, y_train)\n",
    "        y_predict = rf.predict(X_test)\n",
    "        metric1 = f1_score(y_test, y_predict)\n",
    "\n",
    "        metric2 = accuracy_score(y_test, y_predict)\n",
    "        \n",
    "        return metric1, metric2\n",
    "        \n",
    "    def crossval10(self):\n",
    "        \"\"\"Applies 10 fold cross validation testing\"\"\"\n",
    "        rf = RandomForestClassifier(max_depth=2, random_state=0)\n",
    "        cv = cross_validate(rf, self.X, self.y, scoring = make_scorer(f1_score), cv=10)\n",
    "        rf = RandomForestClassifier(max_depth=2, random_state=0)\n",
    "        cv2 = cross_validate(rf, self.X, self.y, scoring = make_scorer(accuracy_score), cv=10)\n",
    "        \n",
    "        \n",
    "        return np.mean(cv['test_score']), np.mean(cv2['test_score'])"
   ]
  },
  {
   "cell_type": "code",
   "execution_count": 13,
   "metadata": {
    "collapsed": true
   },
   "outputs": [],
   "source": [
    "rf = RandomForest(X, y_classifier.ravel())"
   ]
  },
  {
   "cell_type": "code",
   "execution_count": 14,
   "metadata": {},
   "outputs": [
    {
     "name": "stdout",
     "output_type": "stream",
     "text": [
      "70 30 split\n",
      "f1 score:  0.998519728447\n",
      "accuracy:  0.9971\n"
     ]
    }
   ],
   "source": [
    "result = rf.split7030()\n",
    "print('70 30 split')\n",
    "print('f1 score: ', result[0])\n",
    "print('accuracy: ', result[1])"
   ]
  },
  {
   "cell_type": "code",
   "execution_count": 15,
   "metadata": {},
   "outputs": [
    {
     "name": "stdout",
     "output_type": "stream",
     "text": [
      "10 fold cross validation\n",
      "f1 score:  0.998539499497\n",
      "accuracy:  0.997139988981\n"
     ]
    }
   ],
   "source": [
    "result = rf.crossval10()\n",
    "print('10 fold cross validation')\n",
    "print('f1 score: ', result[0])\n",
    "print('accuracy: ', result[1])"
   ]
  },
  {
   "cell_type": "code",
   "execution_count": null,
   "metadata": {
    "collapsed": true
   },
   "outputs": [],
   "source": []
  },
  {
   "cell_type": "code",
   "execution_count": null,
   "metadata": {
    "collapsed": true
   },
   "outputs": [],
   "source": []
  }
 ],
 "metadata": {
  "kernelspec": {
   "display_name": "Python 3",
   "language": "python",
   "name": "python3"
  },
  "language_info": {
   "codemirror_mode": {
    "name": "ipython",
    "version": 3
   },
   "file_extension": ".py",
   "mimetype": "text/x-python",
   "name": "python",
   "nbconvert_exporter": "python",
   "pygments_lexer": "ipython3",
   "version": "3.6.3"
  }
 },
 "nbformat": 4,
 "nbformat_minor": 2
}

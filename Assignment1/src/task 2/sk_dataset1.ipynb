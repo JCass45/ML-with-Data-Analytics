{
 "cells": [
  {
   "cell_type": "code",
   "execution_count": 45,
   "metadata": {},
   "outputs": [],
   "source": [
    "import xlrd\n",
    "import matplotlib.pyplot as plt\n",
    "import numpy as np\n",
    "from sklearn import datasets, linear_model\n",
    "from sklearn.metrics import mean_squared_error, r2_score\n",
    "from sklearn.model_selection import train_test_split\n",
    "from datetime import datetime\n",
    "import sys\n",
    "import csv\n",
    "import pandas as pd\n"
   ]
  },
  {
   "cell_type": "code",
   "execution_count": 5,
   "metadata": {},
   "outputs": [
    {
     "name": "stdout",
     "output_type": "stream",
     "text": [
      "/home/daniel/anaconda3/envs/python36/bin/python\n",
      "\n",
      "/home/daniel/anaconda3/envs/python36/lib/python36.zip\n",
      "/home/daniel/anaconda3/envs/python36/lib/python3.6\n",
      "/home/daniel/anaconda3/envs/python36/lib/python3.6/lib-dynload\n",
      "/home/daniel/anaconda3/envs/python36/lib/python3.6/site-packages\n",
      "/home/daniel/anaconda3/envs/python36/lib/python3.6/site-packages/IPython/extensions\n",
      "/home/daniel/.ipython\n"
     ]
    }
   ],
   "source": [
    "print(sys.executable)\n",
    "for path in sys.path:\n",
    "    print(path)\n",
    "    \n"
   ]
  },
  {
   "cell_type": "code",
   "execution_count": 41,
   "metadata": {
    "collapsed": true
   },
   "outputs": [],
   "source": [
    "NUM_FEATURES = 13\n",
    "NUM_DATAPOINTS = 10000"
   ]
  },
  {
   "cell_type": "code",
   "execution_count": 43,
   "metadata": {
    "scrolled": true
   },
   "outputs": [],
   "source": [
    "# Column headers:['id', 'date', 'price', 'bedrooms', 'bathrooms', 'sqft_living', 'sqft_lot', 'floors', 'waterfront', 'view', 'condition', 'grade', 'sqft_above', 'sqft_basement', 'yr_built', 'yr_renovated', 'zipcode', 'lat', 'long', 'sqft_living15', 'sqft_lot15']\n",
    "# Features Extracted:['bedrooms', 'bathrooms', sqft_living, sqft_lot, floors, waterfront, view, condition, grade, sqft_above, sqft_basement, yr_built, yr_renovated, ]\n",
    "# Index of features extracted[3, 4, 5, 6,                                7         8         9       10       11        12           13           14          15]\n",
    "X = np.zeros((NUM_DATAPOINTS, NUM_FEATURES))\n",
    "y = np.zeros((NUM_DATAPOINTS, 1))\n",
    "\n",
    "with open('kc_house_data.csv') as csvfile:\n",
    "    reader = csv.reader(csvfile)\n",
    "    for i, row in enumerate(reader):         \n",
    "        if(i != 0):\n",
    "            X[i-1][0] = row[3]\n",
    "            X[i-1][1] = row[4]\n",
    "            X[i-1][2] = row[5]\n",
    "            X[i-1][3] = row[6]\n",
    "            X[i-1][4] = row[7]\n",
    "            X[i-1][5] = row[8]\n",
    "            X[i-1][6] = row[9]\n",
    "            X[i-1][7] = row[10]\n",
    "            X[i-1][8] = row[11]\n",
    "            X[i-1][9] = row[12]\n",
    "            X[i-1][10] = row[13]\n",
    "            X[i-1][11] = row[14]\n",
    "            X[i-1][12] = row[15]\n",
    "            y[i-1][0] = row[2]\n",
    "            \n",
    "        if(i == NUM_DATAPOINTS):\n",
    "            break"
   ]
  },
  {
   "cell_type": "code",
   "execution_count": 46,
   "metadata": {
    "collapsed": true
   },
   "outputs": [],
   "source": [
    "X_train, X_test, y_train, y_test = train_test_split(X, y, test_size=0.33)"
   ]
  },
  {
   "cell_type": "code",
   "execution_count": 49,
   "metadata": {},
   "outputs": [
    {
     "name": "stdout",
     "output_type": "stream",
     "text": [
      "Coefficients: \n",
      " [[ -3.52616717e+04  -1.76103230e+04   1.36045278e+02  -2.72833605e-01\n",
      "    1.13694159e+03   7.60482727e+05   5.27889542e+04   6.11976856e+04\n",
      "    1.06256809e+05   6.03864101e+01   7.56588678e+01  -3.87538725e+02\n",
      "    7.33382281e+01]]\n",
      "Mean squared error: 60512955715.48\n",
      "Variance score: 0.59\n",
      "end\n"
     ]
    }
   ],
   "source": [
    "\n",
    "\n",
    "regr = linear_model.LinearRegression(fit_intercept = False)\n",
    "#regr.fit(Pickup_Time_Train, Trip_Duration_Train)\n",
    "regr.fit(X_train, y_train)\n",
    "\n",
    "#Trip_Duration_Predict = regr.predict(Pickup_Time_Test)\n",
    "y_predict = regr.predict(X_test)\n",
    "\n",
    "# The coefficients\n",
    "print('Coefficients: \\n', regr.coef_)\n",
    "# The mean squared error\n",
    "print(\"Mean squared error: %.2f\" % mean_squared_error(y_test, y_predict))\n",
    "## Explained variance score: 1 is perfect prediction\n",
    "print('Variance score: %.2f' % r2_score(y_test, y_predict))\n",
    "\n",
    "#plt.scatter(Pickup_Time_Test, Trip_Duration_Test,  color='black')\n",
    "#plt.plot(Pickup_Time_Test, Trip_Duration_Predict, color='blue', linewidth=3)\n",
    "\n",
    "#plt.scatter(Pickup_Day_Test, Trip_Duration_Test,  color='black')\n",
    "#plt.plot(Pickup_Day_Test, Trip_Duration_Predict, color='blue', linewidth=3)\n",
    "\n",
    "#plt.xticks(())\n",
    "#plt.yticks(())\n",
    "\n",
    "#plt.show()\n",
    "print('end')\n"
   ]
  },
  {
   "cell_type": "code",
   "execution_count": null,
   "metadata": {
    "collapsed": true
   },
   "outputs": [],
   "source": []
  }
 ],
 "metadata": {
  "kernelspec": {
   "display_name": "Python 3",
   "language": "python",
   "name": "python3"
  },
  "language_info": {
   "codemirror_mode": {
    "name": "ipython",
    "version": 3
   },
   "file_extension": ".py",
   "mimetype": "text/x-python",
   "name": "python",
   "nbconvert_exporter": "python",
   "pygments_lexer": "ipython3",
   "version": "3.6.3"
  }
 },
 "nbformat": 4,
 "nbformat_minor": 2
}

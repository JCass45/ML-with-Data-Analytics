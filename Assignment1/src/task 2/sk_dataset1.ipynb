{
 "cells": [
  {
   "cell_type": "code",
   "execution_count": 16,
   "metadata": {
    "collapsed": true
   },
   "outputs": [],
   "source": [
    "import xlrd\n",
    "import matplotlib.pyplot as plt\n",
    "import numpy as np\n",
    "import csv\n",
    "from sklearn import datasets, linear_model\n",
    "from sklearn.metrics import mean_squared_error, r2_score\n",
    "from sklearn.model_selection import train_test_split\n",
    "from sklearn.neighbors import KNeighborsClassifier\n",
    "from datetime import datetime\n",
    "from math import sqrt\n",
    "from sklearn.model_selection import cross_validate\n",
    "from sklearn.metrics.scorer import make_scorer\n",
    "from sklearn.metrics import f1_score\n",
    "from sklearn.metrics import accuracy_score\n",
    "from sklearn.ensemble import RandomForestClassifier\n",
    "from sklearn import preprocessing\n"
   ]
  },
  {
   "cell_type": "code",
   "execution_count": 8,
   "metadata": {},
   "outputs": [
    {
     "name": "stdout",
     "output_type": "stream",
     "text": [
      "/users/ugrad/lavelld/anaconda3/bin/python\n",
      "\n",
      "/users/ugrad/lavelld/anaconda3/lib/python36.zip\n",
      "/users/ugrad/lavelld/anaconda3/lib/python3.6\n",
      "/users/ugrad/lavelld/anaconda3/lib/python3.6/lib-dynload\n",
      "/users/ugrad/lavelld/anaconda3/lib/python3.6/site-packages\n",
      "/users/ugrad/lavelld/anaconda3/lib/python3.6/site-packages/IPython/extensions\n",
      "/users/ugrad/lavelld/.ipython\n"
     ]
    }
   ],
   "source": [
    "import sys\n",
    "print(sys.executable)\n",
    "for path in sys.path:\n",
    "    print(path)\n",
    "    \n"
   ]
  },
  {
   "cell_type": "code",
   "execution_count": 9,
   "metadata": {
    "collapsed": true
   },
   "outputs": [],
   "source": [
    "NUM_FEATURES = 13\n",
    "NUM_DATAPOINTS = 10000"
   ]
  },
  {
   "cell_type": "code",
   "execution_count": 17,
   "metadata": {
    "collapsed": true,
    "scrolled": true
   },
   "outputs": [],
   "source": [
    "# Column headers:['id', 'date', 'price', 'bedrooms', 'bathrooms', 'sqft_living', 'sqft_lot', 'floors', 'waterfront', 'view', 'condition', 'grade', 'sqft_above', 'sqft_basement', 'yr_built', 'yr_renovated', 'zipcode', 'lat', 'long', 'sqft_living15', 'sqft_lot15']\n",
    "# Features Extracted:['bedrooms', 'bathrooms', sqft_living, sqft_lot, floors, waterfront, view, condition, grade, sqft_above, sqft_basement, yr_built, yr_renovated, ]\n",
    "# Index of features extracted[3, 4, 5, 6,                                7         8         9       10       11        12           13           14          15]\n",
    "X = np.zeros((NUM_DATAPOINTS, NUM_FEATURES))\n",
    "y = np.zeros((NUM_DATAPOINTS, 1))\n",
    "## Classifies whether the property is expensive or not (greater than the average or not)\n",
    "y_classifier = np.zeros((NUM_DATAPOINTS, 1)) \n",
    "with open('kc_house_data.csv') as csvfile:\n",
    "    reader = csv.reader(csvfile)\n",
    "    for i, row in enumerate(reader):         \n",
    "        if(i != 0):\n",
    "            X[i-1][0] = row[3]\n",
    "            X[i-1][1] = row[4]\n",
    "            X[i-1][2] = row[5]\n",
    "            X[i-1][3] = row[6]\n",
    "            X[i-1][4] = row[7]\n",
    "            X[i-1][5] = row[8]\n",
    "            X[i-1][6] = row[9]\n",
    "            X[i-1][7] = row[10]\n",
    "            X[i-1][8] = row[11]\n",
    "            X[i-1][9] = row[12]\n",
    "            X[i-1][10] = row[13]\n",
    "            X[i-1][11] = row[14]\n",
    "            X[i-1][12] = row[15]\n",
    "            y[i-1][0] = row[2]\n",
    "            if(float(row[2]) >= 533311.5956):\n",
    "                y_classifier[i-1][0] = True\n",
    "            else:\n",
    "                y_classifier[i-1][0] = False\n",
    "                \n",
    "            \n",
    "        if(i == NUM_DATAPOINTS):\n",
    "            break\n",
    "            \n",
    "X = preprocessing.scale(X)\n",
    "y = preprocessing.scale(y)"
   ]
  },
  {
   "cell_type": "code",
   "execution_count": 18,
   "metadata": {
    "collapsed": true
   },
   "outputs": [],
   "source": [
    "class linear_regression:\n",
    "    def __init__(self, X,y):\n",
    "        self.X = X\n",
    "        self.y = y\n",
    "\n",
    "    def split7030(self, X, y):\n",
    "        X_train, X_test, y_train, y_test = train_test_split(X, y, test_size=0.3)\n",
    "        regr = linear_model.LinearRegression(fit_intercept = False)\n",
    "        #regr.fit(Pickup_Time_Train, Trip_Duration_Train)\n",
    "        regr.fit(X_train, y_train)\n",
    "\n",
    "        #Trip_Duration_Predict = regr.predict(Pickup_Time_Test)\n",
    "        y_predict = regr.predict(X_test)\n",
    "        metric1 = sqrt(mean_squared_error(y_test, y_predict))\n",
    "\n",
    "        sum = 0\n",
    "        for i, y in enumerate(y_test):\n",
    "            sum =  sum + abs(y-y_predict[i])\n",
    "\n",
    "        mean = sum/y_test.shape[0]\n",
    "        metric2 = mean\n",
    "        return metric1, metric2[0]\n",
    "    \n",
    "    def crossval10(self, X, y):\n",
    "        regr = linear_model.LinearRegression(fit_intercept = False)\n",
    "\n",
    "\n",
    "\n",
    "        cv = cross_validate(regr, X, y, scoring=make_scorer(self.score_func_RMSE), cv=10)\n",
    "        regr = linear_model.LinearRegression(fit_intercept = False)\n",
    "        cv2 = cross_validate(regr, X, y, scoring=make_scorer(self.score_func_AE), cv=10)\n",
    "        return np.mean(cv['test_score']), np.mean(cv2['test_score'])\n",
    "    \n",
    "    def score_func_RMSE(self,y, y_pred):\n",
    "        RMSEsum = 0\n",
    "\n",
    "        for i, yi in enumerate(y):\n",
    "            RMSEsum = RMSEsum + (yi-y_pred[i])**2\n",
    "\n",
    "\n",
    "        RMSE = sqrt(RMSEsum/y.shape[0])\n",
    "\n",
    "        return RMSE\n",
    "    def score_func_AE(self,y, y_pred):\n",
    "    \n",
    "        AEsum = 0\n",
    "        for i, yi in enumerate(y):\n",
    "            AEsum = AEsum + abs(yi-y_pred[i])\n",
    "\n",
    "\n",
    "        AE = AEsum/y.shape[0]\n",
    "        return AE\n",
    "    "
   ]
  },
  {
   "cell_type": "code",
   "execution_count": 19,
   "metadata": {},
   "outputs": [
    {
     "name": "stdout",
     "output_type": "stream",
     "text": [
      "(0.58935987696423364, 0.37369050097516254)\n"
     ]
    }
   ],
   "source": [
    "lr = linear_regression(X, y)\n",
    "print(lr.crossval10(X, y))\n",
    "    "
   ]
  },
  {
   "cell_type": "code",
   "execution_count": 20,
   "metadata": {},
   "outputs": [
    {
     "name": "stdout",
     "output_type": "stream",
     "text": [
      "(0.5697101547941715, 0.37405093107089038)\n"
     ]
    }
   ],
   "source": [
    "print(lr.split7030(X,y))"
   ]
  },
  {
   "cell_type": "code",
   "execution_count": 14,
   "metadata": {
    "collapsed": true
   },
   "outputs": [],
   "source": [
    "class KNN:\n",
    "    def __init__(self, X, y_classifier):\n",
    "        self.X = X\n",
    "        self.y = y_classifier\n",
    "        self.num_neigh = 7\n",
    "    def split7030(self, X, y):\n",
    "        X_train, X_test, y_train, y_test = train_test_split(X, y, test_size=0.3)\n",
    "        neigh = KNeighborsClassifier(n_neighbors=5)\n",
    "        neigh.fit(X_train, y_train)\n",
    "        y_predict = neigh.predict(X_test)\n",
    "        metric1 = f1_score(y_test, y_predict)\n",
    "\n",
    "        metric2 = accuracy_score(y_test, y_predict)\n",
    "        \n",
    "        return metric1, metric2\n",
    "    \n",
    "    def crossval10(self, X, y):\n",
    "        neigh = KNeighborsClassifier(n_neighbors = self.num_neigh)\n",
    "\n",
    "        cv = cross_validate(neigh, X, y, scoring = make_scorer(f1_score), cv=10)\n",
    "        neigh = KNeighborsClassifier(n_neighbors=self.num_neigh)\n",
    "        cv2 = cross_validate(neigh, X, y, scoring = make_scorer(accuracy_score), cv=10)\n",
    "        \n",
    "        \n",
    "        return np.mean(cv['test_score']), np.mean(cv2['test_score'])\n",
    "    \n",
    "    \n",
    "    \n",
    "    "
   ]
  },
  {
   "cell_type": "code",
   "execution_count": 15,
   "metadata": {
    "scrolled": false
   },
   "outputs": [
    {
     "name": "stdout",
     "output_type": "stream",
     "text": [
      "(0.6589547859382241, 0.76430161380161388)\n"
     ]
    }
   ],
   "source": [
    "knn = KNN(X, y_classifier)\n",
    "\n",
    "print(knn.crossval10(X, y_classifier.ravel()))"
   ]
  },
  {
   "cell_type": "code",
   "execution_count": 225,
   "metadata": {},
   "outputs": [
    {
     "name": "stdout",
     "output_type": "stream",
     "text": [
      "(0.64748201438848929, 0.755)\n"
     ]
    }
   ],
   "source": [
    "print(knn.split7030(X, y_classifier.ravel()))"
   ]
  },
  {
   "cell_type": "code",
   "execution_count": 232,
   "metadata": {
    "collapsed": true
   },
   "outputs": [],
   "source": [
    "class RandomForest:\n",
    "    def __init__(self, X, y_classifier):\n",
    "        self.X = X\n",
    "        self.y = y_classifier\n",
    "        \n",
    "    def split7030(self, X, y):\n",
    "        X_train, X_test, y_train, y_test = train_test_split(X, y, test_size=0.3)\n",
    "        rf = RandomForestClassifier(max_depth=2, random_state=0)\n",
    "        rf.fit(X_train, y_train)\n",
    "        y_predict = rf.predict(X_test)\n",
    "        metric1 = f1_score(y_test, y_predict)\n",
    "\n",
    "        metric2 = accuracy_score(y_test, y_predict)\n",
    "        \n",
    "        return metric1, metric2\n",
    "        \n",
    "    def crossval10(self, X, y):\n",
    "        \n",
    "        rf = RandomForestClassifier(max_depth=2, random_state=0)\n",
    "        cv = cross_validate(rf, X, y, scoring = make_scorer(f1_score), cv=10)\n",
    "        rf = RandomForestClassifier(max_depth=2, random_state=0)\n",
    "        cv2 = cross_validate(rf, X, y, scoring = make_scorer(accuracy_score), cv=10)\n",
    "        \n",
    "        \n",
    "        return np.mean(cv['test_score']), np.mean(cv2['test_score'])\n",
    "        "
   ]
  },
  {
   "cell_type": "code",
   "execution_count": 234,
   "metadata": {},
   "outputs": [
    {
     "name": "stdout",
     "output_type": "stream",
     "text": [
      "(0.65754923413566735, 0.79133333333333333)\n",
      "(0.64845993640027377, 0.78880323240323247)\n"
     ]
    }
   ],
   "source": [
    "rf = RandomForest(X, y_classifier)\n",
    "print(rf.split7030(X, y_classifier.ravel()))\n",
    "print(rf.crossval10(X, y_classifier.ravel()))"
   ]
  },
  {
   "cell_type": "code",
   "execution_count": null,
   "metadata": {
    "collapsed": true
   },
   "outputs": [],
   "source": []
  }
 ],
 "metadata": {
  "kernelspec": {
   "display_name": "Python 3",
   "language": "python",
   "name": "python3"
  },
  "language_info": {
   "codemirror_mode": {
    "name": "ipython",
    "version": 3
   },
   "file_extension": ".py",
   "mimetype": "text/x-python",
   "name": "python",
   "nbconvert_exporter": "python",
   "pygments_lexer": "ipython3",
   "version": "3.6.3"
  }
 },
 "nbformat": 4,
 "nbformat_minor": 2
}
